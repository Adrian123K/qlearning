{
 "cells": [
  {
   "cell_type": "markdown",
   "metadata": {},
   "source": [
    "## <b>■ 복습</b>\n",
    "    1장. 강화학습\n",
    "        강화 + 머신러닝\n",
    "        보상을 통해서 학습\n",
    "    2장. 강화학습을 구현하기위해 알아야할 용어들\n",
    "        순차적 문제를 풀기 위해 풀어야할 문제를 수학적 요소 5가지로 정의\n",
    "            MDP (환경, 보상, 행동, 상태전이확률, 감가율)\n",
    "    3장. 다이나믹 프로그래밍\n",
    "        풀어야 할 문제를 MDP를 이용해서 다이나믹 프로그래밍\n",
    "            1. 계산 --> O (Agent가 가야할 길을 일일이 다 계산해줌)\n",
    "                - 정책반복\n",
    "                - 가치반복\n",
    "            다이나믹 프로그래밍 한계\n",
    "                1. 바둑과 같이 환경이 크면 계산이 너무 오래 걸려 못품\n",
    "                2. 차원의 저주\n",
    "            2. 학습 --> X (Agent가 가야할 길을 스스로 학습해서 알아내게끔)\n",
    "                - SARSA : 벨만 기대방정식 --> On policy\n",
    "                - QLearning : 벨만 최적방정식 --> Off policy\n",
    "    4장. 강화학습\n",
    "        1. SARSA\n",
    "        2. QLearning"
   ]
  },
  {
   "cell_type": "markdown",
   "metadata": {},
   "source": [
    "#### <b> SARSA 클래스에 있는 메소드</b>\n",
    "    1. init\n",
    "    2. 학습하는 함수(learn)\n",
    "    3. 학습한대로 행동하는 함수 (get_action)\n",
    "    \n",
    "#### <b> 실행 코드</b>\n",
    "    1. SARSA 에이전트를 객체화\n",
    "    2. SARSA 클래스의 메소드로 2개를 실행\n",
    "        - learn\n",
    "        - get_action"
   ]
  },
  {
   "cell_type": "code",
   "execution_count": null,
   "metadata": {},
   "outputs": [],
   "source": [
    "import numpy as np\n",
    "import random\n",
    "from collections import defaultdict\n",
    "from environment import Env\n",
    "\n",
    "class SARSAgent:\n",
    "    def __init__(self, actions):\n",
    "        self.actions = actions # 대리인이 해야할 행동을 지정\n",
    "        self.step_size = 0.01 # Q함수값을 천천히 갱신하기 위한 사이즈. 너무 커도 안좋음\n",
    "        self.discount_factor = 0.9 # 감가율\n",
    "        self.epsilon = 0.1 # 학습할 때는 10번에 한 번씩 랜덤 행동\n",
    "        # 0을 초기값으로 가지는 큐함수 테이블 생성\n",
    "        self.q_table = defaultdict(lambda: [0.0, 0.0, 0.0, 0.0])\n",
    "\n",
    "    # <s, a, r, s', a'>의 샘플로부터 큐함수를 업데이트\n",
    "    def learn(self, state, action, reward, next_state, next_action):\n",
    "        state, next_state = str(state), str(next_state) # 현재 상태, 다음 상태 (좌표들)\n",
    "        \n",
    "        current_q = self.q_table[state][action] # 현재 상태의 Q값\n",
    "        next_state_q = self.q_table[next_state][next_action] # 다음 상태의 Q값 \n",
    "        \n",
    "        td = reward + self.discount_factor * next_state_q - current_q\n",
    "        new_q = current_q + self.step_size * td\n",
    "        self.q_table[state][action] = new_q\n",
    "\n",
    "    # 입실론 탐욕 정책에 따라서 행동을 반환\n",
    "    # e-greedy 정책(epsilon greedy)\n",
    "    def get_action(self, state):\n",
    "        if np.random.rand() < self.epsilon:\n",
    "            # 무작위 행동 반환\n",
    "            action = np.random.choice(self.actions)\n",
    "        else:\n",
    "            # 큐함수에 따른 행동 반환\n",
    "            state = str(state)\n",
    "            q_list = self.q_table[state] # 경험한 걸로 가져온다\n",
    "            action = arg_max(q_list)\n",
    "        return action\n",
    "\n",
    "\n",
    "# 큐함수의 값에 따라 최적의 행동을 반환\n",
    "def arg_max(q_list):\n",
    "    max_idx_list = np.argwhere(q_list == np.amax(q_list))\n",
    "    max_idx_list = max_idx_list.flatten().tolist()\n",
    "    return random.choice(max_idx_list)\n",
    "\n",
    "\n",
    "if __name__ == \"__main__\":\n",
    "    env = Env()\n",
    "    agent = SARSAgent(actions=list(range(env.n_actions)))\n",
    "\n",
    "    for episode in range(1000):\n",
    "        # 게임 환경과 상태를 초기화\n",
    "        state = env.reset()\n",
    "        # 현재 상태에 대한 행동을 선택\n",
    "        action = agent.get_action(state)\n",
    "\n",
    "        while True: # 1epi당 얼음판위를 에이전트가 움직이게 하는 부분\n",
    "            env.render() # 화면을 0.03초마다 업데이트\n",
    "\n",
    "            # 행동을 위한 후 다음상태 보상 에피소드의 종료 여부를 받아옴\n",
    "            next_state, reward, done = env.step(action) # 다음상태, 보상, 종료여부\n",
    "            # 다음 상태에서의 다음 행동 선택\n",
    "            next_action = agent.get_action(next_state)\n",
    "            # <s,a,r,s',a'>로 큐함수를 업데이트\n",
    "            agent.learn(state, action, reward, next_state, next_action)\n",
    "\n",
    "            state = next_state\n",
    "            action = next_action\n",
    "\n",
    "            # 모든 큐함수를 화면에 표시\n",
    "            env.print_value_all(agent.q_table)\n",
    "\n",
    "            if done:\n",
    "                break"
   ]
  },
  {
   "cell_type": "markdown",
   "metadata": {},
   "source": [
    "### <b>[쉬움주의] 4장. 살사 얼음판 코드를 이해하기 위한 문법 문제들</b>"
   ]
  },
  {
   "cell_type": "markdown",
   "metadata": {},
   "source": [
    "#### 문제1.  defaultdict 이란 어떤 기능인가 ?\n",
    "    default값을 가지는 dict 자료형"
   ]
  },
  {
   "cell_type": "code",
   "execution_count": 1,
   "metadata": {
    "ExecuteTime": {
     "end_time": "2020-09-21T01:41:50.377932Z",
     "start_time": "2020-09-21T01:41:50.229899Z"
    }
   },
   "outputs": [
    {
     "ename": "KeyError",
     "evalue": "'a'",
     "output_type": "error",
     "traceback": [
      "\u001b[1;31m---------------------------------------------------------------------------\u001b[0m",
      "\u001b[1;31mKeyError\u001b[0m                                  Traceback (most recent call last)",
      "\u001b[1;32m<ipython-input-1-e952d38871c3>\u001b[0m in \u001b[0;36m<module>\u001b[1;34m\u001b[0m\n\u001b[0;32m      1\u001b[0m \u001b[1;31m# 일반 dict 실습\u001b[0m\u001b[1;33m\u001b[0m\u001b[1;33m\u001b[0m\u001b[1;33m\u001b[0m\u001b[0m\n\u001b[0;32m      2\u001b[0m \u001b[0mn_dict\u001b[0m \u001b[1;33m=\u001b[0m \u001b[0mdict\u001b[0m\u001b[1;33m(\u001b[0m\u001b[1;33m)\u001b[0m\u001b[1;33m\u001b[0m\u001b[1;33m\u001b[0m\u001b[0m\n\u001b[1;32m----> 3\u001b[1;33m \u001b[0mn_dict\u001b[0m\u001b[1;33m[\u001b[0m\u001b[1;34m\"a\"\u001b[0m\u001b[1;33m]\u001b[0m\u001b[1;33m\u001b[0m\u001b[1;33m\u001b[0m\u001b[0m\n\u001b[0m",
      "\u001b[1;31mKeyError\u001b[0m: 'a'"
     ]
    }
   ],
   "source": [
    "# 일반 dict 실습\n",
    "n_dict = dict()\n",
    "n_dict[\"a\"]"
   ]
  },
  {
   "cell_type": "code",
   "execution_count": 2,
   "metadata": {
    "ExecuteTime": {
     "end_time": "2020-09-21T01:43:04.428628Z",
     "start_time": "2020-09-21T01:43:04.414625Z"
    }
   },
   "outputs": [
    {
     "name": "stdout",
     "output_type": "stream",
     "text": [
      "defaultdict(<class 'int'>, {'a': 0})\n"
     ]
    }
   ],
   "source": [
    "from collections import defaultdict\n",
    "d_dict = defaultdict(int)\n",
    "d_dict[\"a\"]\n",
    "print(d_dict)"
   ]
  },
  {
   "cell_type": "code",
   "execution_count": 3,
   "metadata": {
    "ExecuteTime": {
     "end_time": "2020-09-21T01:43:57.248036Z",
     "start_time": "2020-09-21T01:43:57.235039Z"
    }
   },
   "outputs": [
    {
     "name": "stdout",
     "output_type": "stream",
     "text": [
      "defaultdict(<class 'int'>, {'a': 0, 'b': 20})\n"
     ]
    }
   ],
   "source": [
    "d_dict[\"b\"] = 20\n",
    "print(d_dict)"
   ]
  },
  {
   "cell_type": "markdown",
   "metadata": {},
   "source": [
    "#### 문제2. defautdict 에 lamda 를 씌운 아래의 코드를 돌려보고 ? 자리에 어떤 코드를 추가해야 아래의 결과가 출력될까?\n",
    "    {0: [1, 3, 5, 7], 1: [1, 3, 5, 7], 2: [1, 3, 5, 7], 3: [1, 3, 5, 7]})"
   ]
  },
  {
   "cell_type": "code",
   "execution_count": 4,
   "metadata": {
    "ExecuteTime": {
     "end_time": "2020-09-21T02:14:09.456217Z",
     "start_time": "2020-09-21T02:14:09.443214Z"
    },
    "scrolled": true
   },
   "outputs": [
    {
     "name": "stdout",
     "output_type": "stream",
     "text": [
      "defaultdict(<function <lambda> at 0x000001F4117C9AF0>, {0: [1, 3, 5, 7], 1: [1, 3, 5, 7], 2: [1, 3, 5, 7], 3: [1, 3, 5, 7]})\n"
     ]
    }
   ],
   "source": [
    "from collections import defaultdict\n",
    "q_table = defaultdict(lambda: [1, 3, 5, 7])\n",
    "\n",
    "for i, j in zip(range(4), range(4)):\n",
    "    q_table[i]\n",
    "    \n",
    "print(q_table)\n"
   ]
  },
  {
   "cell_type": "code",
   "execution_count": 6,
   "metadata": {
    "ExecuteTime": {
     "end_time": "2020-09-21T02:22:09.659581Z",
     "start_time": "2020-09-21T02:22:09.652580Z"
    }
   },
   "outputs": [
    {
     "name": "stdout",
     "output_type": "stream",
     "text": [
      "defaultdict(<function <lambda> at 0x000001F4117C91F0>, {(1, 0): [0.0, 3.45, 0.0, 0.0]})\n",
      "3.45\n"
     ]
    }
   ],
   "source": [
    "from collections import defaultdict\n",
    "q_table = defaultdict(lambda: [0.0, 0.0, 0.0, 0.0])\n",
    "state = (1,0)\n",
    "action = 1\n",
    "\n",
    "q_table[state][action] = 3.45\n",
    "\n",
    "print(q_table)\n",
    "print(q_table[state][action])\n"
   ]
  },
  {
   "cell_type": "markdown",
   "metadata": {},
   "source": [
    "#### 문제3. Sarsa 클래스의 학습 하는 함수의 수학식이 원래 살사 수학식과 동일한지 확인하시오 !\n",
    "![f](http://cfile290.uf.daum.net/image/9962F7465F67CBD30A425D)"
   ]
  },
  {
   "cell_type": "code",
   "execution_count": 7,
   "metadata": {
    "ExecuteTime": {
     "end_time": "2020-09-21T02:34:51.077298Z",
     "start_time": "2020-09-21T02:34:51.059294Z"
    }
   },
   "outputs": [],
   "source": [
    "def learn(self, state, action, reward, next_state, next_action):\n",
    "    state, next_state = str(state), str(next_state)\n",
    "    current_q = self.q_table[state][action]\n",
    "    next_state_q = self.q_table[next_state][next_action]\n",
    "\n",
    "    td = reward + self.discount_factor * next_state_q - current_q\n",
    "\n",
    "    new_q = current_q + self.step_size * td\n",
    "\n",
    "    self.q_table[state][action] = new_q    "
   ]
  },
  {
   "cell_type": "markdown",
   "metadata": {},
   "source": [
    "![f](http://cfile279.uf.daum.net/image/995F2E485F67CC9D0B8876)"
   ]
  },
  {
   "cell_type": "markdown",
   "metadata": {},
   "source": [
    "#### 문제4. 아래와 같이 각 좌표별로 학습한 결과인 q_table 을  출력하세요 !\n",
    "    결과:\n",
    "\n",
    "    {'[0, 0]': [0.0, 0.0, 0.0, -8.019000000000002e-05], \n",
    "     '[0, 1]': [0.0, 0.0, 0.0, 0.0], \n",
    "     '[1, 0]': [0.0, -0.008910000000000001, 0.0, 0.0], \n",
    "     '[1, 1]': [0.0, -1.99, 0.0, -1.0],\n",
    "     '[0, 2]': [0.0, 0.0, 0.0, -1.0],\n",
    "     '[0, 3]': [0.0, 0.0, 0.0, 0.0], \n",
    "     '[1, 3]': [-1.0, 0.0, 0.0, 0.009000000000000001], \n",
    "     '[1, 2]': [0.0, 0.0, 0.0, 0.0], \n",
    "     '[1, 4]': [0.0, 0.0, 0.0, 0.0], \n",
    "     '[0, 4]': [0.0, 0.0, 0.0, 0.0],\n",
    "     '[2, 1]': [0.0, 0.0, 0.0, 0.0], \n",
    "     '[2, 0]': [0.0, -1.0, 0.0, 0.0], \n",
    "     '[3, 0]': [0.0, 8.100000000000002e-05, 0.0, 0.0], \n",
    "     '[4, 0]': [0.0, 0.0, 0.0, 0.0], \n",
    "     '[4, 1]': [0.0, 0.0, 0.0, 0.0],\n",
    "     '[3, 1]': [0.0, 0.0356409, -1.0, 0.0],\n",
    "     '[3, 2]': [0.0, 0.0, 3.940399, 0.0], \n",
    "     '[2, 3]': [1.99, 0.0, 0.0, 0.0],\n",
    "     '[2, 4]': [0.0, 0.0, 0.0, 0.0], \n",
    "     '[3, 4]': [0.0, 0.0, 0.0, 0.0], \n",
    "     '[3, 3]': [0.01791, 0.0, 0.0, 0.0], \n",
    "     '[2, 2]': [0.0, 0.0, 0.0, 0.0], \n",
    "     '[4, 4]': [0.0, 0.0, 0.0, 0.0]})\n",
    "     \n",
    "     답:\n",
    "     \n",
    "     learn 함수에 \n",
    "     print(q_table) 추가"
   ]
  },
  {
   "cell_type": "markdown",
   "metadata": {},
   "source": [
    "#### 문제5.  랜덤의 횟수를 10번중에 1번이 아닌 10번중에 5번으로 변경해서 수행하면 어떤 결과가 되는지 테스트 하시오 !\n",
    "    답:\n",
    "    \n",
    "    self.epsilon = 0.5"
   ]
  },
  {
   "cell_type": "markdown",
   "metadata": {},
   "source": [
    "#### 문제6. 다음과 같이 성공횟수 실패횟수가 누적되어서 출력되게 하시오!\n",
    "    결과\"\n",
    "    성공횟수: 2    실패횟수: 5\n",
    "    성공횟수: 2    실패횟수: 5\n",
    "    성공횟수: 2    실패횟수: 5\n",
    "    성공횟수: 2    실패횟수: 5\n",
    "    성공횟수: 2    실패횟수: 5\n",
    "    \n",
    "    힌트:\n",
    "\n",
    "     while True:\n",
    "            env.render()\n",
    "            # 행동을 위한 후 다음상태 보상 에피소드의 종료 여부를 받아옴\n",
    "            next_state, reward, done = env.step(action)\n",
    "            print(reward)\n",
    "\n",
    "            # 다음 상태에서의 다음 행동 선택\n",
    "            next_action = agent.get_action(next_state)\n",
    "\n",
    "            # <s,a,r,s',a'>로 큐함수를 업데이트\n",
    "            agent.learn(state, action, reward, next_state, next_action)\n",
    "\n",
    "            state = next_state\n",
    "            action = next_action\n",
    "\n",
    "            # 모든 큐함수를 화면에 표시\n",
    "            env.print_value_all(agent.q_table)\n",
    "\n",
    "            if done:\n",
    "                break"
   ]
  },
  {
   "cell_type": "markdown",
   "metadata": {},
   "source": [
    "#### 문제7.  얼음판의 크기를 7X7 으로 늘려보고 수행하세요. \n",
    "    environment.py \n",
    "        np.random.seed(1)\n",
    "        PhotoImage = ImageTk.PhotoImage\n",
    "        UNIT = 100  # 필셀 수\n",
    "        HEIGHT = 7  # 그리드 월드 가로\n",
    "        WIDTH = 7  # 그리드 월드 세로\n"
   ]
  },
  {
   "cell_type": "markdown",
   "metadata": {},
   "source": [
    "#### 문제8. 이번에는 에피소드도 아래와 같이 출력되게 하시오\n",
    "```python\n",
    "    if done:\n",
    "        if reward == 100:\n",
    "            cnt_s += 1\n",
    "        if reward == -100:\n",
    "            cnt_f += 1\n",
    "        print(f\"에피소드: {episode+1} | 성공횟수: {cnt_s} | 실패횟수: {cnt_f}\")\n",
    "        break\n",
    "```"
   ]
  },
  {
   "cell_type": "markdown",
   "metadata": {},
   "source": [
    "#### 문제9. 얼음판은 크게 관계없지만 바둑이나 틱택토의 경우 한 번의 악수로 게임을 질 수도 있으니 어느정도 학습했으면 랜덤수가 없어져야 한다. 그래서 얼음판에서 10번에 1번씩 랜덤 행동을 하는 에이전트가 점점 랜덤행동이 줄어들고 나중에는 greedy에 의해서만 수행되겠금 코드를 수정하시오"
   ]
  },
  {
   "cell_type": "code",
   "execution_count": null,
   "metadata": {},
   "outputs": [],
   "source": [
    "if __name__ == \"__main__\":\n",
    "    env = Env()\n",
    "    agent = SARSAgent(actions=list(range(env.n_actions)))\n",
    "\n",
    "    cnt_s = 0\n",
    "    cnt_f = 0\n",
    "\n",
    "    loop = 1000\n",
    "\n",
    "    for episode in range(loop):\n",
    "        # 게임 환경과 상태를 초기화\n",
    "        state = env.reset()\n",
    "        # 현재 상태에 대한 행동을 선택\n",
    "        action = agent.get_action(state)\n",
    "\n",
    "        while True:\n",
    "            env.render()\n",
    "\n",
    "            # 행동을 위한 후 다음상태 보상 에피소드의 종료 여부를 받아옴\n",
    "            next_state, reward, done = env.step(action)\n",
    "            # 다음 상태에서의 다음 행동 선택\n",
    "            next_action = agent.get_action(next_state)\n",
    "            # <s,a,r,s',a'>로 큐함수를 업데이트\n",
    "            agent.learn(state, action, reward, next_state, next_action)\n",
    "\n",
    "            state = next_state\n",
    "            action = next_action\n",
    "\n",
    "            # 모든 큐함수를 화면에 표시\n",
    "            env.print_value_all(agent.q_table)\n",
    "\n",
    "            if done:\n",
    "                if reward == 100:\n",
    "                    cnt_s += 1\n",
    "                if reward == -100:\n",
    "                    cnt_f += 1\n",
    "\n",
    "                print(f\"epsilon: {agent.epsilon} | 에피소드: {episode+1} | 성공횟수: {cnt_s} | 실패횟수: {cnt_f}\")\n",
    "                break\n",
    "\n",
    "        if not (cnt_s + cnt_f) % 10:\n",
    "            agent.epsilon = agent.epsilon - (episode / loop)\n",
    "            if agent.epsilon < 0:\n",
    "                agent.epsilon = 1e+08\n",
    "            print(episode, agent.epsilon)"
   ]
  },
  {
   "cell_type": "code",
   "execution_count": null,
   "metadata": {},
   "outputs": [],
   "source": []
  },
  {
   "cell_type": "code",
   "execution_count": null,
   "metadata": {},
   "outputs": [],
   "source": []
  },
  {
   "cell_type": "code",
   "execution_count": null,
   "metadata": {},
   "outputs": [],
   "source": []
  },
  {
   "cell_type": "code",
   "execution_count": null,
   "metadata": {},
   "outputs": [],
   "source": []
  }
 ],
 "metadata": {
  "kernelspec": {
   "display_name": "Python 3",
   "language": "python",
   "name": "python3"
  },
  "language_info": {
   "codemirror_mode": {
    "name": "ipython",
    "version": 3
   },
   "file_extension": ".py",
   "mimetype": "text/x-python",
   "name": "python",
   "nbconvert_exporter": "python",
   "pygments_lexer": "ipython3",
   "version": "3.8.3"
  },
  "toc": {
   "base_numbering": 1,
   "nav_menu": {},
   "number_sections": true,
   "sideBar": true,
   "skip_h1_title": false,
   "title_cell": "Table of Contents",
   "title_sidebar": "Contents",
   "toc_cell": false,
   "toc_position": {},
   "toc_section_display": true,
   "toc_window_display": false
  },
  "varInspector": {
   "cols": {
    "lenName": 16,
    "lenType": 16,
    "lenVar": 40
   },
   "kernels_config": {
    "python": {
     "delete_cmd_postfix": "",
     "delete_cmd_prefix": "del ",
     "library": "var_list.py",
     "varRefreshCmd": "print(var_dic_list())"
    },
    "r": {
     "delete_cmd_postfix": ") ",
     "delete_cmd_prefix": "rm(",
     "library": "var_list.r",
     "varRefreshCmd": "cat(var_dic_list()) "
    }
   },
   "types_to_exclude": [
    "module",
    "function",
    "builtin_function_or_method",
    "instance",
    "_Feature"
   ],
   "window_display": false
  }
 },
 "nbformat": 4,
 "nbformat_minor": 4
}
