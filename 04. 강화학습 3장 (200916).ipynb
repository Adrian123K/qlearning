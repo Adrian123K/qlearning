{
 "cells": [
  {
   "cell_type": "markdown",
   "metadata": {},
   "source": [
    "## <b>■ 복습</b>\n",
    "    머신러닝의 종류 3가지\n",
    "        1. 지도학습\n",
    "        2. 비지도학습\n",
    "        3. 강화학습\n",
    "            강화 + 머신러닝 = DQN\n",
    "\n",
    "    1장. 강화학습이란 무엇인가\n",
    "    \n",
    "    2장. MDP의 구성요소\n",
    "        상태, 행동, 보상, 상태변환 확률, 감가율\n",
    "        특정 환경에서 적응해야할 에이전트가 있으면 그 에이전트가 그 환경에 잘 적응하는지 못하는지를 판단하려면 수학적인 점수가 필요하기 때문에\n",
    "        MDP의 구성요소로 강화학습 시킬 문제를 정의할 필요가 있다.\n",
    "        \n",
    "    3장. Dynamic Programming\n",
    "        특정환경에 에이전트가 적응할 수 있도록 수학적으로 계산해서 환경을 방정식으로 정의하는 것\n",
    "            벨만 방정식\n",
    "                1. 벨만 기대 방정식 : 정책 반복\n",
    "                2. 벨만 최적 방정식 : 가치 반복\n",
    "                \n",
    "    4장. 강화학습 : 경험을 통해서 학습하는 것\n",
    "                1. 살사\n",
    "                2. 큐러닝\n",
    "    \n",
    "    다이나믹 프로그래밍\n",
    "        1. 정책 이터레이션\n",
    "        2. 가치 이터레이션\n",
    "        \n",
    "        다이나믹 프로그래밍 환경에 있는 에이전트는 금수저 집안의 에이전트 부모님이 각 좌표의 가치를 다 계산 -> 가치함수를 통해\n",
    "            가치함수는 각 좌표의 가치를 어떻게 갱신하는가\n",
    "                t+1 시점의 가치를 이용해서 t시점의 가치를 갱신"
   ]
  },
  {
   "cell_type": "markdown",
   "metadata": {},
   "source": [
    "#### ▩ 문제1. 가치함수는 상태를 입력받아 앞으로 받을 보상의 합을 출력으로 내놓습니다. 그래서 에이전트는 가치함수를 통해서 어떤 상태에 있는것이 얼마나 좋은지 알 수 있습니다. 그래서 에이전트는 가치함수를 통해서 어떤 상태로 가야할 지 판단 할 수 있습니다. 또 어떤 상태로 가면 좋을지 판단한 후에 그 상태로 가기 위한 행동을 따져 볼 것 입니다. 그런데 만약 어떤 상태에서 어떤 행동이 얼마나 좋은지 알려주는 함수가 있다면 에이전트 입장에서는 더 편하게 행동을 할 수 있을 것 입니다. 그 함수를 뭐라고 합니까 ?\n",
    "    큐함수"
   ]
  },
  {
   "cell_type": "markdown",
   "metadata": {},
   "source": [
    "#### ▩ 문제2. 큐함수의 수학식은 가치함수와 어떻게 다릅니까 ?\n",
    "    1. 가치함수 수학식\n",
    "![e](http://cfile263.uf.daum.net/image/9986DE3D5F5DA3F42D12A0)\n",
    "\n",
    "    2. 큐함수 수학식 \n",
    "![e2](http://cfile291.uf.daum.net/image/99E61D3C5F5DA42A2C5EB3)\n",
    "\n",
    "    조건문에 행동이 더 들어감"
   ]
  },
  {
   "cell_type": "markdown",
   "metadata": {},
   "source": [
    "#### ▩ 문제3. 가치함수와 큐함수에 대한 정책을 고려한 벨만 기대 방정식은 각각 어떻게 됩니까 ?\n",
    "![e](http://cfile294.uf.daum.net/image/99E638345F5DA5372C35BF)"
   ]
  },
  {
   "cell_type": "markdown",
   "metadata": {},
   "source": [
    "#### ▩ 문제4. 다음의 벨만 기대 방정식을 말로 풀어 설명하면 무엇인가 ?\n",
    "![e](http://cfile258.uf.daum.net/image/999D104C5F5DA6FE2E497F)\n",
    "\n",
    "    특정 정책을 따라갔을 때의 가치함수는 다음 상태의 좌표 가치에 감가율을 곱한 값에 보상을 더한 값의 기대값"
   ]
  },
  {
   "cell_type": "markdown",
   "metadata": {},
   "source": [
    "#### ▩ 문제5. 에이전트가 알아야하는 것은 무엇입니까 ?\n",
    "![fig](http://cfile298.uf.daum.net/image/9976BF505F5DA7EF30BFD9)"
   ]
  },
  {
   "cell_type": "markdown",
   "metadata": {},
   "source": [
    "#### ▩ 문제6. 최적의 큐함수란 무엇인가요 ?\n",
    "![e](http://cfile270.uf.daum.net/image/998C1F435F5DA8DD2DD904)\n",
    "\n",
    "    정책이 최적일 때 그에 따르는 큐함수도 최적"
   ]
  },
  {
   "cell_type": "markdown",
   "metadata": {},
   "source": [
    "#### ▩ 문제7. 최적의 정책은 무엇인가요 ? \n",
    "![f](http://cfile284.uf.daum.net/image/99A7904A5F5DA8EE2FE036)\n",
    "<center><b>가능한 행동들 중에서 최고의 큐함수를 가지는 행동을 선택하는 정책</b></center>"
   ]
  },
  {
   "cell_type": "markdown",
   "metadata": {},
   "source": [
    "#### ▩ 문제8. 일반 정책과 최적의 정책의 차이를 수식으로 나타내시오 !\n",
    "![c](http://cfile267.uf.daum.net/image/99FFE2335F5DBA3504CBB5)\n",
    "\n",
    "    최적의 큐함수 중에서 max를 취하는 것이 최적의 가치함수"
   ]
  },
  {
   "cell_type": "markdown",
   "metadata": {},
   "source": [
    "#### ▩ 문제9. 위의 식은 가치함수에 대한 최적 방정식 입니다. 그러면 큐함수에 대한 최적 방정식은 어떻게 됩니까?\n",
    "![e](http://cfile266.uf.daum.net/image/9922E24B5F5DBBE306FF96)"
   ]
  },
  {
   "cell_type": "markdown",
   "metadata": {},
   "source": [
    "#### ▩ 문제10. 지금까지의 내용을 복습 해봅니다.\n",
    "![r](http://cfile260.uf.daum.net/image/99BB804D5F5DBC4D042407)"
   ]
  },
  {
   "cell_type": "markdown",
   "metadata": {},
   "source": [
    "### <b>3장. 다이나믹 프로그래밍과 강화학습의 차이</b>"
   ]
  },
  {
   "cell_type": "markdown",
   "metadata": {},
   "source": [
    "#### ▩ 문제1. 강화학습의 전체 히스토리를 한 눈에 들어오도록 한장으로 표시하면 ?\n",
    "![c](http://cfile244.uf.daum.net/image/994A5F485F6120F0086563)"
   ]
  },
  {
   "cell_type": "markdown",
   "metadata": {},
   "source": [
    "#### ▩ 문제2. 다이나믹 프로그래밍이란 무엇입니까 ?\n",
    "    큰 문제안에 작은 문제들이 중첩되어 있는 경우에 전체 큰 문제를 작은 문제로 쪼개서 푸는 것\n",
    "    '다이나믹'이라는 말은 대상이 시간에 따라 변한다, '프로그래밍'이란 말 그대로 '계획' 즉, 여러 프로세서가 다단계로 이뤄지는 것을 말한다.\n",
    "    작은 문제들이 하나의 프로세스가 되는 것이고 이 작은 문제들을 다단계로 풀어가는 프로그램"
   ]
  },
  {
   "cell_type": "markdown",
   "metadata": {},
   "source": [
    "#### ▩ 문제3. grid world 에서는 다이나믹 프로그래밍이 어떻게 사용되었습니까 ?\n",
    "     하나의 프로세스를 대상으로 문제를 풀어가는 것이 아니라 시간에 따라 다른 프로세스들을 풀어나가는 방식으로 사용\n",
    "![f](http://cfile295.uf.daum.net/image/999ED5475F6123B9086FF5)"
   ]
  },
  {
   "cell_type": "code",
   "execution_count": null,
   "metadata": {},
   "outputs": [],
   "source": []
  },
  {
   "cell_type": "code",
   "execution_count": null,
   "metadata": {},
   "outputs": [],
   "source": []
  },
  {
   "cell_type": "code",
   "execution_count": null,
   "metadata": {},
   "outputs": [],
   "source": []
  },
  {
   "cell_type": "code",
   "execution_count": null,
   "metadata": {},
   "outputs": [],
   "source": []
  },
  {
   "cell_type": "code",
   "execution_count": null,
   "metadata": {},
   "outputs": [],
   "source": []
  },
  {
   "cell_type": "code",
   "execution_count": null,
   "metadata": {},
   "outputs": [],
   "source": []
  },
  {
   "cell_type": "code",
   "execution_count": null,
   "metadata": {},
   "outputs": [],
   "source": []
  }
 ],
 "metadata": {
  "kernelspec": {
   "display_name": "Python 3",
   "language": "python",
   "name": "python3"
  },
  "language_info": {
   "codemirror_mode": {
    "name": "ipython",
    "version": 3
   },
   "file_extension": ".py",
   "mimetype": "text/x-python",
   "name": "python",
   "nbconvert_exporter": "python",
   "pygments_lexer": "ipython3",
   "version": "3.7.4"
  },
  "toc": {
   "base_numbering": 1,
   "nav_menu": {},
   "number_sections": true,
   "sideBar": true,
   "skip_h1_title": false,
   "title_cell": "Table of Contents",
   "title_sidebar": "Contents",
   "toc_cell": false,
   "toc_position": {},
   "toc_section_display": true,
   "toc_window_display": false
  },
  "varInspector": {
   "cols": {
    "lenName": 16,
    "lenType": 16,
    "lenVar": 40
   },
   "kernels_config": {
    "python": {
     "delete_cmd_postfix": "",
     "delete_cmd_prefix": "del ",
     "library": "var_list.py",
     "varRefreshCmd": "print(var_dic_list())"
    },
    "r": {
     "delete_cmd_postfix": ") ",
     "delete_cmd_prefix": "rm(",
     "library": "var_list.r",
     "varRefreshCmd": "cat(var_dic_list()) "
    }
   },
   "types_to_exclude": [
    "module",
    "function",
    "builtin_function_or_method",
    "instance",
    "_Feature"
   ],
   "window_display": false
  }
 },
 "nbformat": 4,
 "nbformat_minor": 2
}
